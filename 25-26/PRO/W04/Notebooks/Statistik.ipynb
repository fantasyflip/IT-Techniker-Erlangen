{
 "cells": [
  {
   "cell_type": "markdown",
   "metadata": {
    "pycharm": {
     "name": "#%% md\n"
    }
   },
   "source": [
    "# Statistik mit SciPy\n",
    "\n",
    "Ein Modul für wissenschaftliche Berechnungen, Simulationen und Visualisierungen heißt <a href=\"https://scipy.org/\">_SciPy_</a>. _SciPy_ steht für _Scientific Python_. Es ist in verschiedene Untermodule unterteilt, die unterschiedliche Bereiche des wissenschaftlichen Rechnens abdecken. Eins davon ist <a href=\"https://docs.scipy.org/doc/scipy/reference/stats.html\">_Statistical functions (scipy.stats)_</a>. Dieses Untermodul enthält viele Funktionen für statistische Berechnungen. In diesem Kapitel konzentrieren wir uns auf die grundlegenden statistischen Kennzahlen."
   ]
  },
  {
   "cell_type": "markdown",
   "metadata": {
    "pycharm": {
     "name": "#%% md\n"
    }
   },
   "source": [
    "## Statistische Kennzahlen\n",
    "\n",
    "Damit man die Funktionen des Moduls _SciPy_ nutzen kann, muss dieses zuerst in das Programm importiert werden. Wenn man nur ein bestimmtes Untermodul wie z.B. _scipy.stats_ in seinem Programm benötigt, hat man die Möglichkeit nur dieses zu importieren. Im Folgenden werden wir mit der unten stehenden Datentabelle arbeiten. Die Werte dieser Datentabelle speichern wir in einem _ndarray_. Dafür muss das Modul _NumPy_ auch importiert werden.\n",
    "\n"
   ]
  },
  {
   "cell_type": "markdown",
   "metadata": {
    "pycharm": {
     "name": "#%% md\n"
    }
   },
   "source": [
    "<center>\n",
    "<table>\n",
    "  <tr>\n",
    "    <th> <center></center> </th>\n",
    "    <th> Alter </th>\n",
    "    <th> Größe </th>\n",
    "    <th> Gewicht </th>\n",
    "  </tr>\n",
    "  <tr>\n",
    "    <td> Patient 1 </td>\n",
    "    <td> <center>45</center> </td>\n",
    "    <td> <center>1.82</center> </td>\n",
    "    <td> <center>78.5</center> </td>\n",
    "  </tr>\n",
    "  <tr>\n",
    "    <td> Patient 2 </td>\n",
    "    <td> <center>35</center> </td>\n",
    "    <td> <center>1.73</center> </td>\n",
    "    <td> <center>56.3</center> </td>\n",
    "  </tr>\n",
    "    <tr>\n",
    "    <td> Patient 3 </td>\n",
    "    <td> <center>67</center> </td>\n",
    "    <td> <center>1.87</center> </td>\n",
    "    <td> <center>82</center> </td>\n",
    "  </tr>\n",
    "    <tr>\n",
    "    <td> Patient 4 </td>\n",
    "    <td> <center>23</center> </td>\n",
    "    <td> <center>1.95</center> </td>\n",
    "    <td> <center>90.4</center> </td>\n",
    "  </tr>\n",
    "    <tr>\n",
    "    <td> Patient 5 </td>\n",
    "    <td> <center>35</center> </td>\n",
    "    <td> <center>1.82</center> </td>\n",
    "    <td> <center>85</center> </td>\n",
    "  </tr>\n",
    "</table>\n",
    "</center>"
   ]
  },
  {
   "cell_type": "code",
   "execution_count": null,
   "metadata": {
    "pycharm": {
     "name": "#%%\n"
    }
   },
   "outputs": [],
   "source": [
    "from scipy import stats\n",
    "import numpy as np\n",
    "\n",
    "# Wir legen die Werte der Datentabelle in einem ndarray ab.\n",
    "patienten_daten = np.array([[45, 1.82, 78.5], [35, 1.73, 56.3],\n",
    "                            [67, 1.87, 82], [23, 1.95, 90.4],\n",
    "                            [35, 1.82, 85]])\n",
    "\n",
    "print(patienten_daten)"
   ]
  },
  {
   "cell_type": "markdown",
   "metadata": {
    "pycharm": {
     "name": "#%% md\n"
    }
   },
   "source": [
    "Um den _Minimalwert_ für jedes Merkmal zu berechnen, nutzen wir die Funktion <a href=\"https://docs.scipy.org/doc/scipy/reference/generated/scipy.stats.tmin.html\">_tmin()_</a>. _tmin_ steht für _trimmed minimum_ und berechnet den Minimalwert entlang einer Dimension. Dabei gibt es die Möglichkeit Werte zu ignorieren, die kleiner als eine angegebene Untergrenze sind. Mit dem Parameter _inclusive_ kann zusätzlich festgelegt werden, ob die Werte, die genau der unteren Grenzen entsprechen, bei der Berechnung des Minimalwerts miteinbezogen werden."
   ]
  },
  {
   "cell_type": "code",
   "execution_count": null,
   "metadata": {
    "pycharm": {
     "name": "#%%\n"
    }
   },
   "outputs": [],
   "source": [
    "# Hier wird keine Untergrenze angegeben. Also werden alle Merkmalsausprägungen\n",
    "# betrachtet.\n",
    "min_array = stats.tmin(patienten_daten, axis = 0)\n",
    "\n",
    "print(min_array)"
   ]
  },
  {
   "cell_type": "code",
   "execution_count": null,
   "metadata": {
    "pycharm": {
     "name": "#%%\n"
    }
   },
   "outputs": [],
   "source": [
    "# Hier wird die Untergrenze für das Alter mit 23, für die Größe\n",
    "# mit 1.73 und für das Gewicht mit 60 angegeben. Mit der Anweisung\n",
    "# \"inclusive = False\" wird zusätzlich festgelegt, dass die Merkmalausprägungen,\n",
    "# die gleich der Untergrenze sind, bei der Berechnung des Minimalwerts\n",
    "# nicht betrachtet werden.\n",
    "min_array_ll = stats.tmin(patienten_daten, axis = 0,\n",
    "                          lowerlimit = (23, 1.73, 60),\n",
    "                          inclusive = False)\n",
    "\n",
    "print(min_array_ll)"
   ]
  },
  {
   "cell_type": "markdown",
   "metadata": {
    "pycharm": {
     "name": "#%% md\n"
    }
   },
   "source": [
    "Der _Maximalwert_ eines Arrays entlang der angegebenen Dimension wird mit der Funktion <a href=\"https://docs.scipy.org/doc/scipy/reference/generated/scipy.stats.tmax.html\">_tmax()_</a> _(trimmed maximum)_ berechnet. Bei dieser Funktion gibt es wieder die Möglichkeit mit dem Parameter _upperlimit_ nur die Werte zu berücksichtigen, die kleiner als eine angegebene Obergrenze sind."
   ]
  },
  {
   "cell_type": "code",
   "execution_count": null,
   "metadata": {
    "pycharm": {
     "name": "#%%\n"
    }
   },
   "outputs": [],
   "source": [
    "# Hier wird keine Obergrenze angegeben. Also werden alle\n",
    "# Merkmalsausprägungen betrachtet.\n",
    "max_array = stats.tmax(patienten_daten, axis = 0)\n",
    "\n",
    "print(max_array)"
   ]
  },
  {
   "cell_type": "markdown",
   "metadata": {
    "pycharm": {
     "name": "#%% md\n"
    }
   },
   "source": [
    "Der _Modus_ eines Arrays entlang der angegebenen Dimension wird mit der Funktion <a href=\"https://docs.scipy.org/doc/scipy/reference/generated/scipy.stats.mode.html\">_mode()_</a> berechnet. Wenn man die Dimensionalität des Eingabearrays in der Ausgabe beibehalten möchte, setzt man den Parameter _keepdims_ auf _True_. Wenn die Modi der Merkmale in einem eindimensionalen Array ausgegeben werden sollen, soll der Parameter _keepdims_ auf _False_ gesetzt werden."
   ]
  },
  {
   "cell_type": "code",
   "execution_count": null,
   "metadata": {
    "pycharm": {
     "name": "#%%\n"
    }
   },
   "outputs": [],
   "source": [
    "# Die Modi der Merkmale sowie deren Vorkommenshäufigkeiten\n",
    "# werden jeweils in einem eindimensionalen Array ausgegeben.\n",
    "mode_array = stats.mode(patienten_daten, axis = 0,\n",
    "                        keepdims=False)\n",
    "\n",
    "print(mode_array)"
   ]
  },
  {
   "cell_type": "markdown",
   "metadata": {
    "pycharm": {
     "name": "#%% md\n"
    }
   },
   "source": [
    "Für die Berechnung des _Mittelwerts_ eines Arrays entlang der angegebenen Dimension stehen mehrere Funktionen im Modul _SciPy_ zur Verfügung. Am einfachsten kann man es mit der Funktion <a href=\"https://docs.scipy.org/doc/scipy/reference/generated/scipy.stats.tmean.html\">_tmean()_</a> berechnen. _tmean_ steht für _trimmed mean_, d.h. wie bei der Berechnung des Minimal- und des Maximalwerts kann man mit der Angabe einer Unter- und einer Obergrenze für jedes Feature die Werte bei der Berechnung des Mittelwerts ignorieren, die außerhalb dieser Grenzen liegen."
   ]
  },
  {
   "cell_type": "code",
   "execution_count": null,
   "metadata": {
    "pycharm": {
     "name": "#%%\n"
    }
   },
   "outputs": [],
   "source": [
    "# Hier wird auf die Angabe der Unter- und Obergrenzen verzichtet,\n",
    "# also werden alle Merkmalswerte bei der Berechnung der Mittelwerte\n",
    "# einzelner Merkmale miteinbezogen.\n",
    "mean_array = stats.tmean(patienten_daten, axis=0)\n",
    "\n",
    "print(mean_array)"
   ]
  },
  {
   "cell_type": "markdown",
   "metadata": {
    "pycharm": {
     "name": "#%% md\n"
    }
   },
   "source": [
    "In den älteren Versionen von _SciPy_ gab es eine Funktion namens <a href=\"https://docs.scipy.org/doc/scipy-0.14.0/reference/generated/scipy.stats.nanmedian.html\">_nanmedian()_</a> für die Berechnung des _Medians_. Diese Funktion steht in den neueren Versionen des Moduls nicht mehr zur Verfügung. Um den _Median_ eines Arrays entlang der angegebenen Dimension berechnen zu können, kann man die Funktion <a href=\"https://numpy.org/doc/stable/reference/generated/numpy.median.html\">_median()_</a> des Moduls _NumPy_ nutzten."
   ]
  },
  {
   "cell_type": "code",
   "execution_count": null,
   "metadata": {
    "pycharm": {
     "name": "#%%\n"
    }
   },
   "outputs": [],
   "source": [
    "median_array = np.median(patienten_daten, axis = 0)\n",
    "\n",
    "print(median_array)"
   ]
  },
  {
   "cell_type": "markdown",
   "metadata": {
    "pycharm": {
     "name": "#%% md\n"
    }
   },
   "source": [
    "Alle oben genannten statistischen Kennzahlen bis auf den _Modus_ lassen sich auch mit den <a href=\"https://numpy.org/doc/stable/reference/routines.math.html\">entsprechenden Funktionen</a> des _NumPy_-Moduls berechnen. Diese Funktionen bieten allerdings teilweise andere Auswahloptionen als die Funktionen im _SciPy_-Modul an."
   ]
  }
 ],
 "metadata": {
  "hide_input": false,
  "kernelspec": {
   "display_name": "Python (AI4all_I)",
   "language": "python",
   "name": "python-ai4all_i"
  },
  "language_info": {
   "codemirror_mode": {
    "name": "ipython",
    "version": 3
   },
   "file_extension": ".py",
   "mimetype": "text/x-python",
   "name": "python",
   "nbconvert_exporter": "python",
   "pygments_lexer": "ipython3",
   "version": "3.10.9"
  },
  "toc": {
   "base_numbering": 1,
   "nav_menu": {},
   "number_sections": true,
   "sideBar": true,
   "skip_h1_title": false,
   "title_cell": "Table of Contents",
   "title_sidebar": "Contents",
   "toc_cell": false,
   "toc_position": {},
   "toc_section_display": true,
   "toc_window_display": false
  }
 },
 "nbformat": 4,
 "nbformat_minor": 1
}
