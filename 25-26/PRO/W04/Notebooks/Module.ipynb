{
 "cells": [
  {
   "cell_type": "markdown",
   "metadata": {
    "pycharm": {
     "name": "#%% md\n"
    }
   },
   "source": [
    "# Module und Funktionen am Beispiel von _NumPy_"
   ]
  },
  {
   "cell_type": "markdown",
   "metadata": {
    "pycharm": {
     "name": "#%% md\n"
    }
   },
   "source": [
    "## Was sind Module in Python?\n",
    "\n",
    "Für die meisten Programmiersprachen gibt es Werkzeugkisten mit Hilfsmitteln, die schon jemand fertig programmiert und zur freien Nutzung gestellt hat. Diese Werkzeugkisten werden oft als Packages oder Bibliotheken bezeichnet. Im Zusammenhang mit Python hat sich die Bezeichnung _Modul_ durchgesetzt. Die Module enthalten oft Hilfsprogramme, eigene Datenstrukturen und sogar neue Datentypen.\n",
    "\n",
    "Für Python wurden bereits sehr viele Module geschrieben. Deswegen kann man in Python große Projekte schnell umsetzen, ohne dafür selbst viel programmieren zu müssen. Besonders beliebt ist diese Programmiersprache, wenn es um die KI-Forschung geht. Inzwischen bietet Python die größte Auswahl an Modulen mit fertig programmierten Machine und Deep Learning Methoden.\n"
   ]
  },
  {
   "cell_type": "markdown",
   "metadata": {
    "pycharm": {
     "name": "#%% md\n"
    }
   },
   "source": [
    "## Importieren von Modulen\n",
    "\n",
    "Wir fangen mit dem Modul _NumPy_ an. <a href=\"https://numpy.org/\">NumPy</a> steht für _Numerical Python_. Es ist ein wichtiges Modul für wissenschaftliche Berechnungen.\n",
    "\n",
    "Um die Komponenten eines Moduls im Programm nutzen zu können, muss das Modul zuerst mit dem Befehl _import_ importiert werden. Der Name des Moduls, also _numpy_, muss direkt nach der _import_-Anweisung folgen. Um einen Alias zu vergeben, was bei NumPy oft _np_ ist, fügt man noch _as np_ hinzu."
   ]
  },
  {
   "cell_type": "code",
   "execution_count": null,
   "metadata": {
    "pycharm": {
     "name": "#%%\n"
    }
   },
   "outputs": [],
   "source": [
    "import numpy as np"
   ]
  },
  {
   "cell_type": "markdown",
   "metadata": {
    "pycharm": {
     "name": "#%% md\n"
    }
   },
   "source": [
    "Jetzt ist NumPy in unser Programm importiert und wir können seine Konstrukte und Werkzeuge nutzen. Eine detaillierte Beschreibung der Bestandteile des NumPy-Moduls findest du online im <a href=\"https://numpy.org/doc/stable/reference/index.html\">Reference Manual</a>."
   ]
  },
  {
   "cell_type": "markdown",
   "metadata": {
    "pycharm": {
     "name": "#%% md\n"
    }
   },
   "source": [
    "## NumPy-Datenstruktur _ndarray_\n",
    "\n",
    "NumPy bietet eine eigene Datenstruktur namens <a href=\"https://numpy.org/doc/stable/reference/arrays.ndarray.html\">_ndarray_</a> an. Dabei handelt es sich um ein mehrdimensionales Array, das einer verschachtelten Liste sehr ähnlich ist. Der wesentliche Unterschied besteht darin, dass alle Elemente innerhalb eines _ndarrays_ vom selben Datentyp sein müssen. Außerdem müssen alle Unterlisten jeder Hierarchieebene in einem _ndarray_ gleich viele Elemente enthalten.\n",
    "\n",
    "In einem _ndarray_ werden oft Werte einer Datentabelle gespeichert. Wenn diese numerische Werte unterschiedlichen Datentyps wie zum Beispiel ganze Zahlen und Fließkommazahlen enthält, dann empfiehlt es sich einen Datentyp mit einer höheren Präzision wie zum Beispiel _float_, also Fließkommazahlen, für die Speicherung der Werte im _ndarray_ zu wählen."
   ]
  },
  {
   "cell_type": "markdown",
   "metadata": {
    "pycharm": {
     "name": "#%% md\n"
    }
   },
   "source": [
    "<center>\n",
    "<table>\n",
    "  <tr>\n",
    "    <th> <center></center> </th>\n",
    "    <th> Alter </th>\n",
    "    <th> Größe </th>\n",
    "    <th> Gewicht </th>\n",
    "  </tr>\n",
    "  <tr>\n",
    "    <td> Patient 1 </td>\n",
    "    <td> <center>45</center> </td>\n",
    "    <td> <center>1.82</center> </td>\n",
    "    <td> <center>78.5</center> </td>\n",
    "  </tr>\n",
    "  <tr>\n",
    "    <td> Patient 2 </td>\n",
    "    <td> <center>35</center> </td>\n",
    "    <td> <center>1.73</center> </td>\n",
    "    <td> <center>56.3</center> </td>\n",
    "  </tr>\n",
    "    <tr>\n",
    "    <td> Patient 3 </td>\n",
    "    <td> <center>67</center> </td>\n",
    "    <td> <center>1.87</center> </td>\n",
    "    <td> <center>82</center> </td>\n",
    "  </tr>\n",
    "    <tr>\n",
    "    <td> Patient 4 </td>\n",
    "    <td> <center>23</center> </td>\n",
    "    <td> <center>1.95</center> </td>\n",
    "    <td> <center>90.4</center> </td>\n",
    "  </tr>\n",
    "</table>\n",
    "</center>"
   ]
  },
  {
   "cell_type": "markdown",
   "metadata": {
    "pycharm": {
     "name": "#%% md\n"
    }
   },
   "source": [
    "### Erzeugung von _ndarrays_\n",
    "\n",
    "Wenn bereits bekannt ist, welche Werte in einem _ndarray_ gespeichert werden sollen, wird das _ndarray_ wie folgt erzeugt: Zuerst wird der Namen des _ndarrays_ angegeben. Nach dem Zuweisungsoperator muss der Modulname, also _np_, angegeben werden, dessen Datenstruktur genutzt wird. Nach dem Punkt wird die Bezeichnung der Funktion angegeben, mit deren Hilfe ein _ndarray_ erzeugt werden kann. Eine _Funktion_ in Programmiersprachen ist ein Hilfsprogramm, das für bestimmte Eingabewerte eine Ausgabe produziert. Die _ndarrays_ werden mit der NumPy-Funktion <a href=\"https://numpy.org/doc/stable/reference/generated/numpy.array.html#\">_array()_</a> erzeugt. In der runden Klammer der Funktion werden Werte des _ndarrays_ aufgeführt. Diese werden wie eine verschachtelte Liste angegeben. Nach dem Komma kann der Datentyp der Elemente spezifiziert werden. Diese Angabe ist aber optional. Wird der Datentyp nicht angegeben, wird dieser automatisch bestimmt."
   ]
  },
  {
   "cell_type": "code",
   "execution_count": null,
   "metadata": {
    "pycharm": {
     "name": "#%%\n"
    }
   },
   "outputs": [],
   "source": [
    "patienten_daten = np.array([[45, 1.82, 78.5], [35, 1.73, 56.3],\n",
    "                            [67, 1.87, 82], [23, 1.95, 90.4]])\n",
    "\n",
    "print(patienten_daten)"
   ]
  },
  {
   "cell_type": "markdown",
   "metadata": {
    "pycharm": {
     "name": "#%% md\n"
    }
   },
   "source": [
    "Wie man in der Ausgabe sehen kann, wurden alle ganzen Zahlen automatisch in Fließkommazahlen umgewandelt. Wenn man den genauen Datentyp der Werte eines ndarrays wissen möchte, kann dieser mit Hilfe des Befehls _dtype_ bestimmt werden."
   ]
  },
  {
   "cell_type": "code",
   "execution_count": null,
   "metadata": {
    "pycharm": {
     "name": "#%%\n"
    }
   },
   "outputs": [],
   "source": [
    "print(\"Datentyp der Elemente des ndarrays patienten_daten:\",\n",
    "      patienten_daten.dtype)"
   ]
  },
  {
   "cell_type": "markdown",
   "metadata": {
    "pycharm": {
     "name": "#%% md\n"
    }
   },
   "source": [
    "Im <a href=\"https://numpy.org/doc/stable/user/basics.types.html\">online Manual</a> können weitere Informationen zu diesem und weiteren Datentypen nachgeschlagen werden."
   ]
  },
  {
   "cell_type": "markdown",
   "metadata": {
    "pycharm": {
     "name": "#%% md\n"
    }
   },
   "source": [
    "Ein weiterer nützlicher Befehl für _ndarrays_ ist _shape_. Dieser gibt die Dimensionen des _ndarrays_ an, also die Anzahl der Elemente entlang jeder Achse."
   ]
  },
  {
   "cell_type": "code",
   "execution_count": null,
   "metadata": {
    "pycharm": {
     "name": "#%%\n"
    }
   },
   "outputs": [],
   "source": [
    "print(\"Dimension des ndarrays patienten_daten:\",\n",
    "      patienten_daten.shape)"
   ]
  },
  {
   "cell_type": "markdown",
   "metadata": {
    "pycharm": {
     "name": "#%% md\n"
    }
   },
   "source": [
    "### Zugriff auf die Elemente in einem _ndarray_\n",
    "\n",
    "Da der Aufbau eines _ndarrays_ einer Liste sehr ähnlich ist, erfolgt auch der Zugriff auf die Elemente in ähnlicher Weise. Man kann auf die Elemente in einem _ndarray_ über deren Indizes zugreifen. Dabei muss beachtet werden, dass die Indexnummerierung in _ndarrays_ genau wie in den Listen mit Null anfängt."
   ]
  },
  {
   "cell_type": "code",
   "execution_count": null,
   "metadata": {
    "pycharm": {
     "name": "#%%\n"
    }
   },
   "outputs": [],
   "source": [
    "print(\"Element in der zweiten Zeile und dritten Spalte des \"\n",
    "      \"Arrays patienten_daten:\", patienten_daten[1,2])"
   ]
  },
  {
   "cell_type": "markdown",
   "metadata": {
    "pycharm": {
     "name": "#%% md\n"
    }
   },
   "source": [
    "Man kann auch ganze Zeilen oder Spalten eines _ndarrays_ ausgeben oder in einem weiteren _ndarray_ speichern. Um die Werte aller Spalten im neuen Array zu speichern, muss man in der zweiten Dimension einen Doppelpunkt angeben."
   ]
  },
  {
   "cell_type": "code",
   "execution_count": null,
   "metadata": {
    "pycharm": {
     "name": "#%%\n"
    }
   },
   "outputs": [],
   "source": [
    "patient_4 = patienten_daten[3,:]\n",
    "\n",
    "print(\"Daten des vierten Patienten aus dem Array patienten_daten:\",\n",
    "      patient_4)"
   ]
  },
  {
   "cell_type": "markdown",
   "metadata": {
    "pycharm": {
     "name": "#%% md\n"
    }
   },
   "source": [
    "Auf ähnliche Weise können die Elemente einer Spalte in einem neuen _ndarray_ gespeichert werden. Hier muss man in der ersten Dimension einen Doppelpunkt angeben. In der zweiten Dimension wird der Index der entsprechenden Spalte angegeben."
   ]
  },
  {
   "cell_type": "code",
   "execution_count": null,
   "metadata": {
    "pycharm": {
     "name": "#%%\n"
    }
   },
   "outputs": [],
   "source": [
    "patienten_alter = patienten_daten[:, 0]\n",
    "\n",
    "print(\"Alter aller Patienten des Array patienten_daten:\",\n",
    "      patienten_alter)"
   ]
  },
  {
   "cell_type": "markdown",
   "metadata": {
    "pycharm": {
     "name": "#%% md\n"
    }
   },
   "source": [
    "Möchte man den Wert eines Elements in einem _ndarray_ ändern, wird das Element über seinen Index angesprochen und ihm ein neuer Wert zugewiesen."
   ]
  },
  {
   "cell_type": "code",
   "execution_count": null,
   "metadata": {
    "pycharm": {
     "name": "#%%\n"
    }
   },
   "outputs": [],
   "source": [
    "print(\"Array patienten_daten vor der Änderung:\")\n",
    "print(patienten_daten)\n",
    "print()\n",
    "\n",
    "patienten_daten[1, 1] = 1.92\n",
    "\n",
    "print(\"Array patienten_daten nach der Änderung:\")\n",
    "print(patienten_daten)"
   ]
  },
  {
   "cell_type": "markdown",
   "metadata": {
    "pycharm": {
     "name": "#%% md\n"
    }
   },
   "source": [
    "### Suche in _ndarrays_\n",
    "\n",
    "In _ndarrays_ kann man mit der <a href=\"https://numpy.org/doc/stable/reference/generated/numpy.where.html\">_where()_</a>-Funktion die Position eines Elements mit bestimmten Eigenschaften ausgeben lassen. Dabei wird das Ergebnis in einem Array gespeichert."
   ]
  },
  {
   "cell_type": "code",
   "execution_count": null,
   "metadata": {
    "pycharm": {
     "name": "#%%\n"
    }
   },
   "outputs": [],
   "source": [
    "print(\"Indizes der Patienten, die älter als 35 Jahre sind:\",\n",
    "      np.where(patienten_daten[:,0] > 35))"
   ]
  },
  {
   "cell_type": "code",
   "execution_count": null,
   "metadata": {
    "pycharm": {
     "name": "#%%\n"
    }
   },
   "outputs": [],
   "source": [
    "print(\"Indizes der Patienten, die älter oder genau 35 Jahre sind:\",\n",
    "      np.where(patienten_daten[:,0] >= 35))"
   ]
  },
  {
   "cell_type": "code",
   "execution_count": null,
   "metadata": {
    "pycharm": {
     "name": "#%%\n"
    }
   },
   "outputs": [],
   "source": [
    "print(\"Indizes der Patienten, die genau 35 Jahre sind:\",\n",
    "      np.where(patienten_daten[:,0] == 35))"
   ]
  }
 ],
 "metadata": {
  "hide_input": false,
  "kernelspec": {
   "display_name": "Python (AI4all_I)",
   "language": "python",
   "name": "python-ai4all_i"
  },
  "language_info": {
   "codemirror_mode": {
    "name": "ipython",
    "version": 3
   },
   "file_extension": ".py",
   "mimetype": "text/x-python",
   "name": "python",
   "nbconvert_exporter": "python",
   "pygments_lexer": "ipython3",
   "version": "3.10.9"
  },
  "toc": {
   "base_numbering": 1,
   "nav_menu": {},
   "number_sections": true,
   "sideBar": true,
   "skip_h1_title": false,
   "title_cell": "Table of Contents",
   "title_sidebar": "Contents",
   "toc_cell": false,
   "toc_position": {},
   "toc_section_display": true,
   "toc_window_display": false
  }
 },
 "nbformat": 4,
 "nbformat_minor": 1
}
