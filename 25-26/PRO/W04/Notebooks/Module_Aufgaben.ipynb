{
 "cells": [
  {
   "cell_type": "code",
   "execution_count": 1,
   "metadata": {
    "pycharm": {
     "name": "#%%\n"
    }
   },
   "outputs": [],
   "source": [
    "# Bitte führe diese Codezelle vor Bearbeitung der Aufgaben aus\n",
    "import numpy as np"
   ]
  },
  {
   "cell_type": "markdown",
   "metadata": {
    "pycharm": {
     "name": "#%% md\n"
    }
   },
   "source": [
    "# Aufgabe (_Erzeugung von ndarrays_)\n",
    "\n",
    "In der unten stehenden Datentabelle sind der Brennwert, der Fett-, der Kohlenhydrat- und der Eiweißgehalt für je 100 ml der drei Getränke zusammengefasst."
   ]
  },
  {
   "cell_type": "markdown",
   "metadata": {
    "pycharm": {
     "name": "#%% md\n"
    }
   },
   "source": [
    "<center>\n",
    "<table>\n",
    "  <tr>\n",
    "    <th> <center></center> </th>\n",
    "    <th> Brennwert in kcal </th>\n",
    "    <th> Fettgehalt in g </th>\n",
    "    <th> Kohlenhydratgehalt in g </th>\n",
    "    <th> Eiweißgehalt in g </th>\n",
    "  </tr>\n",
    "  <tr>\n",
    "    <td> Orangensaft </td>\n",
    "    <td> <center>45</center> </td>\n",
    "    <td> <center>0</center> </td>\n",
    "    <td> <center>9,3</center> </td>\n",
    "    <td> <center>0,7</center> </td>\n",
    "  </tr>\n",
    "    <tr>\n",
    "    <td> Milch </td>\n",
    "    <td> <center>65</center> </td>\n",
    "    <td> <center>3,5</center> </td>\n",
    "    <td> <center>4,9</center> </td>\n",
    "    <td> <center>3,4</center> </td>\n",
    "  </tr>\n",
    "    <tr>\n",
    "    <td> Eistee </td>\n",
    "    <td> <center>21</center> </td>\n",
    "    <td> <center>0</center> </td>\n",
    "    <td> <center>5</center> </td>\n",
    "    <td> <center>0</center> </td>\n",
    "  </tr>\n",
    "</table>\n",
    "</center>"
   ]
  },
  {
   "cell_type": "markdown",
   "metadata": {
    "pycharm": {
     "name": "#%% md\n"
    }
   },
   "source": [
    "Schreibe eine Anweisung, die die Werte dieser Tabelle in einem _ndarray_ namens _naehrwerte\\_getraenke_ gespeichert."
   ]
  },
  {
   "cell_type": "code",
   "execution_count": null,
   "metadata": {
    "pycharm": {
     "name": "#%%\n"
    }
   },
   "outputs": [],
   "source": [
    "# Hier kommt deine Lösung\n",
    "\n"
   ]
  },
  {
   "cell_type": "markdown",
   "metadata": {
    "pycharm": {
     "name": "#%% md\n"
    }
   },
   "source": [
    "# Aufgabe (_Datentyp der Elemente der ndarrays_)\n",
    "\n",
    "In der unten stehenden Datentabelle sind die Nährwerte für je 100 g der vier Beilagen im ungekochten Zustand zusammengefasst."
   ]
  },
  {
   "cell_type": "markdown",
   "metadata": {
    "pycharm": {
     "name": "#%% md\n"
    }
   },
   "source": [
    "<center>\n",
    "<table>\n",
    "  <tr>\n",
    "    <th> <center></center> </th>\n",
    "    <th> Brennwert in kcal </th>\n",
    "    <th> Fettgehalt in g </th>\n",
    "    <th> Kohlenhydratgehalt in g </th>\n",
    "    <th> Eiweißgehalt in g </th>\n",
    "  </tr>\n",
    "  <tr>\n",
    "    <td> Bastmatireis </td>\n",
    "    <td> <center>355</center> </td>\n",
    "    <td> <center>0,8</center> </td>\n",
    "    <td> <center>78</center> </td>\n",
    "    <td> <center>8,5</center> </td>\n",
    "  </tr>\n",
    "    <tr>\n",
    "    <td> Nudeln </td>\n",
    "    <td> <center>374</center> </td>\n",
    "    <td> <center>1,5</center> </td>\n",
    "    <td> <center>75</center> </td>\n",
    "    <td> <center>14</center> </td>\n",
    "  </tr>\n",
    "    <tr>\n",
    "    <td> Hirse </td>\n",
    "    <td> <center>360</center> </td>\n",
    "    <td> <center>3,9</center> </td>\n",
    "    <td> <center>69</center> </td>\n",
    "    <td> <center>11</center> </td>\n",
    "  </tr>\n",
    "    <tr>\n",
    "    <td> Linsen </td>\n",
    "    <td> <center>362</center> </td>\n",
    "    <td> <center>2,6</center> </td>\n",
    "    <td> <center>55</center> </td>\n",
    "    <td> <center>27</center> </td>\n",
    "  </tr>\n",
    "</table>\n",
    "</center>"
   ]
  },
  {
   "cell_type": "markdown",
   "metadata": {
    "pycharm": {
     "name": "#%% md\n"
    }
   },
   "source": [
    "Die Werte dieser Tabelle werden in einem _ndarray_ _naehrwerte\\_beilagen_ gespeichert. Schreibe eine Anweisung, die den Datentyp der Elemente des _ndarrays_ _naehrwerte\\_beilagen_ ausgibt."
   ]
  },
  {
   "cell_type": "code",
   "execution_count": null,
   "metadata": {
    "pycharm": {
     "name": "#%%\n"
    }
   },
   "outputs": [],
   "source": [
    "naehrwerte_beilagen = np.array([[355, 0.8, 78, 8.5],\n",
    "                                [374, 1.5, 75, 14],\n",
    "                                [360, 3.9, 69, 11],\n",
    "                                [362, 2.6, 55, 27]])\n",
    "\n",
    "# Hier kommt deine Lösung\n",
    "\n"
   ]
  },
  {
   "cell_type": "markdown",
   "metadata": {
    "pycharm": {
     "name": "#%% md\n"
    }
   },
   "source": [
    "# Aufgabe (_Form von ndarrays_)\n",
    "\n",
    "Schreibe eine Anweisung, die die Form bzw. die Anzahl der Elemente entlang jeder Dimension des _ndarrays_ _naehrwerte\\_beilagen_ ausgibt."
   ]
  },
  {
   "cell_type": "code",
   "execution_count": null,
   "metadata": {
    "pycharm": {
     "name": "#%%\n"
    }
   },
   "outputs": [],
   "source": [
    "# Hier kommt deine Lösung\n",
    "\n"
   ]
  },
  {
   "cell_type": "markdown",
   "metadata": {
    "pycharm": {
     "name": "#%% md\n"
    }
   },
   "source": [
    "# Aufgabe (_Zugriff auf die Elemente in einem ndarray_)\n",
    "\n",
    "a) Schreibe eine Anweisung, die den Fettgehalt von allen Beilagen im _ndarray_ _naehrwerte\\_beilagen_ ausgibt.\n",
    "\n",
    "b) Schreibe eine Anweisung, die alle Nährwerte von Linsen im _ndarray_ _naehrwerte\\_beilagen_ ausgibt."
   ]
  },
  {
   "cell_type": "code",
   "execution_count": null,
   "metadata": {
    "pycharm": {
     "name": "#%%\n"
    }
   },
   "outputs": [],
   "source": [
    "# Hier kommt deine Lösung für die Teilaufgabe a)\n",
    "\n"
   ]
  },
  {
   "cell_type": "code",
   "execution_count": null,
   "metadata": {
    "pycharm": {
     "name": "#%%\n"
    }
   },
   "outputs": [],
   "source": [
    "# Hier kommt deine Lösung für die Teilaufgabe b)\n",
    "\n"
   ]
  },
  {
   "cell_type": "markdown",
   "metadata": {
    "pycharm": {
     "name": "#%% md\n"
    }
   },
   "source": [
    "# Aufgabe (_Änderung der Elemente in einem ndarray_)\n",
    "\n",
    "Schreibe eine Anweisung, die dem Eiweißgehalt von Nudeln einen neuen Wert von 12,5 zuweist."
   ]
  },
  {
   "cell_type": "code",
   "execution_count": null,
   "metadata": {
    "pycharm": {
     "name": "#%%\n"
    }
   },
   "outputs": [],
   "source": [
    "# Hier kommt deine Lösung\n",
    "\n"
   ]
  },
  {
   "cell_type": "markdown",
   "metadata": {
    "pycharm": {
     "name": "#%% md\n"
    }
   },
   "source": [
    "# Aufgabe (_Suche in ndarrays_)\n",
    "\n",
    "Schreibe eine Anweisung, die Indizes der Beilagen des _ndarrays_ _naehrwerte\\_beilagen_ ausgibt, deren Kohlenhydratgehalt pro 100g unter 70g liegt."
   ]
  },
  {
   "cell_type": "code",
   "execution_count": null,
   "metadata": {
    "pycharm": {
     "name": "#%%\n"
    }
   },
   "outputs": [],
   "source": [
    "# Hier kommt deine Lösung\n",
    "\n"
   ]
  }
 ],
 "metadata": {
  "hide_input": false,
  "kernelspec": {
   "display_name": "Python (AI4all_I)",
   "language": "python",
   "name": "python-ai4all_i"
  },
  "language_info": {
   "codemirror_mode": {
    "name": "ipython",
    "version": 3
   },
   "file_extension": ".py",
   "mimetype": "text/x-python",
   "name": "python",
   "nbconvert_exporter": "python",
   "pygments_lexer": "ipython3",
   "version": "3.10.9"
  },
  "toc": {
   "base_numbering": 1,
   "nav_menu": {},
   "number_sections": true,
   "sideBar": true,
   "skip_h1_title": false,
   "title_cell": "Table of Contents",
   "title_sidebar": "Contents",
   "toc_cell": false,
   "toc_position": {},
   "toc_section_display": true,
   "toc_window_display": false
  }
 },
 "nbformat": 4,
 "nbformat_minor": 1
}
