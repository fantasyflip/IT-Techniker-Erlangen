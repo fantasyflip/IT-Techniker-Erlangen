{
 "cells": [
  {
   "cell_type": "markdown",
   "metadata": {
    "pycharm": {
     "name": "#%% md\n"
    }
   },
   "source": [
    "In der unten stehenden Datentabelle sind die Kaltmiete, Wohnfläche und das Baujahr für fünf Wohnungen zusammengefasst. Die Werte dieser Tabelle werden in einem _ndarray_ _wohnungsdaten_ gespeichert."
   ]
  },
  {
   "cell_type": "markdown",
   "metadata": {
    "pycharm": {
     "name": "#%% md\n"
    }
   },
   "source": [
    "<center>\n",
    "<table>\n",
    "  <tr>\n",
    "    <th> <center></center> </th>\n",
    "    <th> Kaltmiete in Euro </th>\n",
    "    <th> Wohnfläche in qm</th>\n",
    "    <th> Baujahr </th>\n",
    "  </tr>\n",
    "  <tr>\n",
    "    <td> Wohnung 1 </td>\n",
    "    <td> <center>649</center> </td>\n",
    "    <td> <center>73</center> </td>\n",
    "    <td> <center>1954</center> </td>\n",
    "  </tr>\n",
    "    <tr>\n",
    "    <td> Wohnung 2 </td>\n",
    "    <td> <center>1040</center> </td>\n",
    "    <td> <center>83</center> </td>\n",
    "    <td> <center>2022</center> </td>\n",
    "  </tr>\n",
    "    <tr>\n",
    "    <td> Wohnung 3 </td>\n",
    "    <td> <center>650</center> </td>\n",
    "    <td> <center>65</center> </td>\n",
    "    <td> <center>1954</center> </td>\n",
    "  </tr>\n",
    "    <tr>\n",
    "    <td> Wohnung 4 </td>\n",
    "    <td> <center>1040</center> </td>\n",
    "    <td> <center>56</center> </td>\n",
    "    <td> <center>1875</center> </td>\n",
    "  </tr>\n",
    "    <tr>\n",
    "    <td> Wohnung 5 </td>\n",
    "    <td> <center>858</center> </td>\n",
    "    <td> <center>65</center> </td>\n",
    "    <td> <center>2022</center> </td>\n",
    "  </tr>\n",
    "</table>\n",
    "</center>"
   ]
  },
  {
   "cell_type": "code",
   "execution_count": 20,
   "metadata": {
    "pycharm": {
     "name": "#%%\n"
    }
   },
   "outputs": [
    {
     "name": "stdout",
     "output_type": "stream",
     "text": [
      "[[ 649   73 1954]\n",
      " [1040   83 2022]\n",
      " [ 650   65 1954]\n",
      " [1040   56 1875]\n",
      " [ 858   65 2022]]\n"
     ]
    }
   ],
   "source": [
    "# Bitte den folgenden Programmcode vor Bearbeitung der Aufgaben ausführen\n",
    "\n",
    "from scipy import stats\n",
    "import numpy as np\n",
    "\n",
    "# Wir legen die Werte der Datentabelle in einem ndarray ab.\n",
    "wohnungsdaten = np.array([[649, 73, 1954], [1040, 83, 2022],\n",
    "                          [650, 65, 1954], [1040, 56, 1875],\n",
    "                          [858, 65, 2022]])\n",
    "\n",
    "print(wohnungsdaten)"
   ]
  },
  {
   "cell_type": "markdown",
   "metadata": {
    "pycharm": {
     "name": "#%% md\n"
    }
   },
   "source": [
    "# Aufgabe (_Minimalwert_)\n",
    "\n",
    "Schreibe eine Anweisung, die den Minimalwert für jedes Merkmal der oberen Datentabelle berechnet. Dabei soll keine Untergrenze angegeben werden."
   ]
  },
  {
   "cell_type": "code",
   "execution_count": 21,
   "metadata": {
    "pycharm": {
     "name": "#%%\n"
    }
   },
   "outputs": [
    {
     "name": "stdout",
     "output_type": "stream",
     "text": [
      "[ 649   56 1875]\n"
     ]
    }
   ],
   "source": [
    "# Hier kommt deine Lösung\n",
    "print(stats.tmin(wohnungsdaten, axis=0))  # Minimalwerte je Spalte\n"
   ]
  },
  {
   "cell_type": "markdown",
   "metadata": {
    "pycharm": {
     "name": "#%% md\n"
    }
   },
   "source": [
    "# Aufgabe (_Maximalwert_)\n",
    "\n",
    "Schreibe eine Anweisung, die den Maximalwert für jedes Merkmal der oberen Datentabelle berechnet."
   ]
  },
  {
   "cell_type": "code",
   "execution_count": 22,
   "metadata": {
    "pycharm": {
     "name": "#%%\n"
    }
   },
   "outputs": [
    {
     "name": "stdout",
     "output_type": "stream",
     "text": [
      "[1040   83 2022]\n"
     ]
    }
   ],
   "source": [
    "# Hier kommt deine Lösung\n",
    "print(stats.tmax(wohnungsdaten, axis=0))  # Maximalwerte je Spalte\n"
   ]
  },
  {
   "cell_type": "markdown",
   "metadata": {
    "pycharm": {
     "name": "#%% md\n"
    }
   },
   "source": [
    "# Aufgabe (_Modus_)\n",
    "\n",
    "Schreibe eine Anweisung, die die Modi der Merkmale für die obere Datentabelle berechnet. Dabei sollen diese in einem eindimensionalen Array ausgegeben werden."
   ]
  },
  {
   "cell_type": "code",
   "execution_count": 23,
   "metadata": {
    "pycharm": {
     "name": "#%%\n"
    }
   },
   "outputs": [
    {
     "name": "stdout",
     "output_type": "stream",
     "text": [
      "ModeResult(mode=array([1040,   65, 1954]), count=array([2, 2, 2]))\n"
     ]
    }
   ],
   "source": [
    "# Hier kommt deine Lösung\n",
    "print(stats.mode(wohnungsdaten, axis=0))  # Modalwerte je Spalte\n"
   ]
  },
  {
   "cell_type": "markdown",
   "metadata": {
    "pycharm": {
     "name": "#%% md\n"
    }
   },
   "source": [
    "# Aufgabe (_Mittelwert_)\n",
    "\n",
    "Schreibe eine Anweisung, die die Mittelwerte aller Merkmale der oberen Datentabelle berechnet."
   ]
  },
  {
   "cell_type": "code",
   "execution_count": 24,
   "metadata": {
    "pycharm": {
     "name": "#%%\n"
    }
   },
   "outputs": [
    {
     "name": "stdout",
     "output_type": "stream",
     "text": [
      "[ 847.4   68.4 1965.4]\n"
     ]
    }
   ],
   "source": [
    "# Hier kommt deine Lösung\n",
    "print(stats.tmean(wohnungsdaten, axis=0))  # Mittelwerte je Spalte\n"
   ]
  },
  {
   "cell_type": "markdown",
   "metadata": {
    "pycharm": {
     "name": "#%% md\n"
    }
   },
   "source": [
    "# Aufgabe (_Median_)\n",
    "\n",
    "Schreibe eine Anweisung, die die Mediane aller Merkmale der oberen Datentabelle berechnet."
   ]
  },
  {
   "cell_type": "code",
   "execution_count": 25,
   "metadata": {
    "pycharm": {
     "name": "#%%\n"
    }
   },
   "outputs": [
    {
     "name": "stdout",
     "output_type": "stream",
     "text": [
      "[ 858.   65. 1954.]\n"
     ]
    }
   ],
   "source": [
    "# Hier kommt deine Lösung\n",
    "print(np.median(wohnungsdaten, axis=0))  # Medianwerte je Spalte\n"
   ]
  }
 ],
 "metadata": {
  "hide_input": false,
  "kernelspec": {
   "display_name": "ai4all",
   "language": "python",
   "name": "python3"
  },
  "language_info": {
   "codemirror_mode": {
    "name": "ipython",
    "version": 3
   },
   "file_extension": ".py",
   "mimetype": "text/x-python",
   "name": "python",
   "nbconvert_exporter": "python",
   "pygments_lexer": "ipython3",
   "version": "3.11.13"
  },
  "toc": {
   "base_numbering": 1,
   "nav_menu": {},
   "number_sections": true,
   "sideBar": true,
   "skip_h1_title": false,
   "title_cell": "Table of Contents",
   "title_sidebar": "Contents",
   "toc_cell": false,
   "toc_position": {},
   "toc_section_display": true,
   "toc_window_display": false
  }
 },
 "nbformat": 4,
 "nbformat_minor": 1
}
