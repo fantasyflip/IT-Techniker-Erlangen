{
 "cells": [
  {
   "cell_type": "markdown",
   "metadata": {},
   "source": [
    "### Aufgabe (_Variablenzuweisung_)\n",
    "Erstelle eine Variable namens _kurs\\_bezeichnung_ und weise ihr den Wert _AI4all_ zu. Gebe den Wert der Variablen _kurs\\_bezeichnung_ mit der _print()_-Anweisung aus."
   ]
  },
  {
   "cell_type": "code",
   "execution_count": null,
   "metadata": {},
   "outputs": [],
   "source": [
    "# Hier kommt deine Lösung\n",
    "kurs_bezeichnung = \"AI4all\"\n",
    "print(kurs_bezeichnungs)\n",
    "\n"
   ]
  },
  {
   "cell_type": "markdown",
   "metadata": {},
   "source": [
    "### Aufgabe (_Datentypen_)\n",
    "Gebe den Datentyp der Variablen _zahl_ mit der _print()_-Anweisung aus."
   ]
  },
  {
   "cell_type": "code",
   "execution_count": null,
   "metadata": {},
   "outputs": [],
   "source": [
    "zahl = 5.5\n",
    "\n",
    "# Hier kommt deine Lösung\n"
   ]
  },
  {
   "cell_type": "markdown",
   "metadata": {},
   "source": [
    "### Aufgabe (_Datentypumwandlung_)\n",
    "Wandle die _String_-Variable _jahr_ in eine Ganzzahl um und gebe den Datentyp ihres Wertes mit der _print()_-Anweisung aus."
   ]
  },
  {
   "cell_type": "code",
   "execution_count": null,
   "metadata": {},
   "outputs": [],
   "source": [
    "jahr = \"2023\"\n",
    "\n",
    "# Hier kommt deine Lösung\n",
    "\n"
   ]
  },
  {
   "cell_type": "markdown",
   "metadata": {},
   "source": [
    "### Aufgabe (_Rechenoperationen auf Zahlen_)\n",
    "Subtrahiere 50 von dem Wert der Variablen _kontostand_ und speichere das Ergebnis in derselben Variable ab."
   ]
  },
  {
   "cell_type": "code",
   "execution_count": null,
   "metadata": {},
   "outputs": [],
   "source": [
    "kontostand = 100\n",
    "\n",
    "# Hier kommt deine Lösung\n",
    "\n",
    "\n",
    "print(\"Wert der Variablen kontostand: \", kontostand)"
   ]
  },
  {
   "cell_type": "markdown",
   "metadata": {},
   "source": [
    "### Aufgabe (_Rechenoperationen auf Zahlen_)\n",
    "Dividiere den Wert der Variablen _kaufpreis_ durch 5 und speichere das Ergebnis in derselben Variable ab. Benutze dabei die Ganzzahldivision, bei der das Ergebnis wieder eine ganze Zahl (int) ist und keine Fließkommazahl (float) wie bei der normalen Division. Der Ganzzahldivisionsoperator lautet //."
   ]
  },
  {
   "cell_type": "code",
   "execution_count": null,
   "metadata": {},
   "outputs": [],
   "source": [
    "kaufpreis = 2000\n",
    "\n",
    "# Hier kommt deine Lösung\n",
    "\n",
    "\n",
    "print(\"Wert der Variablen kaufpreis: \", kaufpreis)"
   ]
  },
  {
   "cell_type": "markdown",
   "metadata": {},
   "source": [
    "### Aufgabe (_Operationen auf Zeichenketten_)\n",
    "Verknüpfe die Variablen _s\\_code_ und _o\\_code_ so miteinander, dass der String \"...\\_ \\_ \\_...\" entsteht. Weise das Ergebnis der Variablen _sos\\_code_ zu und gebe den Wert der Variablen _sos\\_code_ mit dem _print()_-Befehl aus."
   ]
  },
  {
   "cell_type": "code",
   "execution_count": null,
   "metadata": {},
   "outputs": [],
   "source": [
    "s_code = \"...\"\n",
    "o_code = \"_ _ _\"\n",
    "\n",
    "# Hier kommt deine Lösung\n",
    "\n",
    "\n"
   ]
  }
 ],
 "metadata": {
  "hide_input": false,
  "kernelspec": {
   "display_name": "Python (AI4all_I)",
   "language": "python",
   "name": "python-ai4all_i"
  },
  "language_info": {
   "codemirror_mode": {
    "name": "ipython",
    "version": 3
   },
   "file_extension": ".py",
   "mimetype": "text/x-python",
   "name": "python",
   "nbconvert_exporter": "python",
   "pygments_lexer": "ipython3",
   "version": "3.10.9"
  },
  "toc": {
   "base_numbering": 1,
   "nav_menu": {},
   "number_sections": true,
   "sideBar": true,
   "skip_h1_title": false,
   "title_cell": "Table of Contents",
   "title_sidebar": "Contents",
   "toc_cell": false,
   "toc_position": {},
   "toc_section_display": true,
   "toc_window_display": false
  }
 },
 "nbformat": 4,
 "nbformat_minor": 1
}
