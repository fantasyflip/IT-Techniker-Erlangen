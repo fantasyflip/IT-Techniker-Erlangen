{
 "cells": [
  {
   "cell_type": "markdown",
   "id": "868f4cff427a927e",
   "metadata": {},
   "source": [
    "### Aufgabe (_Erzeugung von Listen_)\n",
    "Schreibe eine Anweisung, mit deren Hilfe eine Liste namens _tools_ mit drei Elementen _hammer_, _pliers_ und _cutter_ erzeugt wird."
   ]
  },
  {
   "cell_type": "code",
   "execution_count": null,
   "id": "8377266ddd1e9e65",
   "metadata": {},
   "outputs": [],
   "source": [
    "# Hier kommt deine Lösung\n",
    "\n",
    "\n",
    "# Mit dieser Anweisung wird die Liste tools ausgegeben\n",
    "print(tools)"
   ]
  },
  {
   "cell_type": "markdown",
   "id": "a08557c4bb84487f",
   "metadata": {},
   "source": [
    "### Aufgabe (_Hinzufügen von Elementen zu einer Liste_)\n",
    "Die unten definierte Liste _colours_ enthält drei Farben _red_, _green_ und _blue_ als Elemente.\n",
    "\n",
    "Schreibe eine Anweisung, um das Element _yellow_ an das Ende der Liste einzufügen."
   ]
  },
  {
   "cell_type": "code",
   "execution_count": null,
   "id": "ed1fd9ed3c70aa5d",
   "metadata": {},
   "outputs": [],
   "source": [
    "colours = [\"red\", \"green\", \"blue\"]\n",
    "\n",
    "# Hier kommt deine Lösung\n",
    "\n",
    "\n",
    "# Mit dieser Anweisung wird die Liste colours ausgegeben\n",
    "print(colours)"
   ]
  }
 ],
 "metadata": {
  "hide_input": false,
  "kernelspec": {
   "display_name": "Python (AI4all_I)",
   "language": "python",
   "name": "python-ai4all_i"
  },
  "language_info": {
   "codemirror_mode": {
    "name": "ipython",
    "version": 3
   },
   "file_extension": ".py",
   "mimetype": "text/x-python",
   "name": "python",
   "nbconvert_exporter": "python",
   "pygments_lexer": "ipython3",
   "version": "3.10.9"
  },
  "toc": {
   "base_numbering": 1,
   "nav_menu": {},
   "number_sections": true,
   "sideBar": true,
   "skip_h1_title": false,
   "title_cell": "Table of Contents",
   "title_sidebar": "Contents",
   "toc_cell": false,
   "toc_position": {},
   "toc_section_display": true,
   "toc_window_display": false
  }
 },
 "nbformat": 4,
 "nbformat_minor": 5
}
