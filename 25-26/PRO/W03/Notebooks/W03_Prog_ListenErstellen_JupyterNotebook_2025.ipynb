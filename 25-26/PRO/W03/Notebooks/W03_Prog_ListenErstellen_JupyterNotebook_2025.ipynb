{
 "cells": [
  {
   "cell_type": "markdown",
   "id": "e93e3361d61b9f3c",
   "metadata": {},
   "source": [
    "# Erstellen von Listen in Python"
   ]
  },
  {
   "cell_type": "markdown",
   "id": "df05cdd729eefc51",
   "metadata": {},
   "source": [
    "## Erzeugung von Listen\n",
    "\n",
    "In Python werden Listen durch eckige Klammern gekennzeichnet. Die Elemente innerhalb einer Liste werden durch Kommas voneinander getrennt.\n",
    "\n",
    "Es gibt mehrere Möglichkeiten eine Liste zu erzeugen. Wenn die Elemente einer Liste bereits bekannt sind, können diese direkt beim Erzeugen angegeben werden."
   ]
  },
  {
   "cell_type": "code",
   "execution_count": null,
   "id": "631ab80ac5f1a81b",
   "metadata": {},
   "outputs": [],
   "source": [
    "kinderbuecher = [\"Peter Pan\", \"Pippi Langstrumpf\", \"Alice im Wunderland\"]\n",
    "\n",
    "print(kinderbuecher)"
   ]
  },
  {
   "cell_type": "code",
   "execution_count": null,
   "id": "6470de0b42d3bdc9",
   "metadata": {},
   "outputs": [],
   "source": [
    "erscheinungsjahr = [1911, 1945, 1865]\n",
    "\n",
    "print(erscheinungsjahr)"
   ]
  },
  {
   "cell_type": "markdown",
   "id": "d4d47f513359742a",
   "metadata": {},
   "source": [
    "Im Unterschied zu vielen anderen Programmiersprachen kann man in Python in einer Liste Elemente unterschiedlicher Datentypen speichern. Diese Art von Listen wird oft genutzt, um tabellenartige Strukturen zu erzeugen. Man kann kleine Listen erzeugen, die einzelne Tabellenzeilen darstellen und später diese zu einer verschachtelten Liste zusammenfügen."
   ]
  },
  {
   "cell_type": "code",
   "execution_count": null,
   "id": "a03da3f801084f06",
   "metadata": {},
   "outputs": [],
   "source": [
    "kinderbuch_1 = [\"Pippi Langstrumpf\", \"Astrid Lindgren\", 1945]\n",
    "\n",
    "print(kinderbuch_1)"
   ]
  },
  {
   "cell_type": "code",
   "execution_count": null,
   "id": "b4491edd169be19",
   "metadata": {},
   "outputs": [],
   "source": [
    "kinderbuch_2 = [\"Alice im Wunderland\", \"Lewis Carroll\", 1865]\n",
    "\n",
    "print(kinderbuch_2)"
   ]
  },
  {
   "cell_type": "markdown",
   "id": "4652df7882059ae8",
   "metadata": {},
   "source": [
    "Jetzt kann eine übergeordnete Liste erstellt werden, die oben definierten Listen als Unterlisten enthält.\n"
   ]
  },
  {
   "cell_type": "code",
   "execution_count": null,
   "id": "ae7ac1c7a716730",
   "metadata": {},
   "outputs": [],
   "source": [
    "buchliste = [kinderbuch_1, kinderbuch_2]\n",
    "\n",
    "print(buchliste)"
   ]
  },
  {
   "cell_type": "markdown",
   "id": "e1b41a1942192575",
   "metadata": {},
   "source": [
    "## Hinzufügen neuer Listenelementen"
   ]
  },
  {
   "cell_type": "markdown",
   "id": "ecc56a94b8ed6af0",
   "metadata": {},
   "source": [
    "Bis jetzt wurden Listen mit vorher festgelegten Elementen erstellt. Wenn die Elemente einer Liste am Anfang noch nicht bekannt sind und erst im Laufe des Programms generiert werden, kann zuerst eine leere Liste erstellt werden und dieser nach und nach Elemente hinzugefügt werden."
   ]
  },
  {
   "cell_type": "code",
   "execution_count": null,
   "id": "4ba8927e0b631fc3",
   "metadata": {},
   "outputs": [],
   "source": [
    "krimis = []\n",
    "\n",
    "print(krimis)"
   ]
  },
  {
   "cell_type": "markdown",
   "id": "39b55f9b87fc2d81",
   "metadata": {},
   "source": [
    "Um ein Element am Ende der Liste hinzuzufügen, benutzt man die Funktion _append()_ und zwar so, dass man nach dem Listennamen einen Punkt schreibt, danach kommt die Funktion _append()_ und in der Klammer das Element, welches man einfügen möchte."
   ]
  },
  {
   "cell_type": "code",
   "execution_count": null,
   "id": "eba3bf8f019f1426",
   "metadata": {},
   "outputs": [],
   "source": [
    "krimis.append(\"Mord im Orient-Express\")\n",
    "\n",
    "print(krimis)"
   ]
  },
  {
   "cell_type": "code",
   "execution_count": null,
   "id": "d91ce619e2427cdf",
   "metadata": {},
   "outputs": [],
   "source": [
    "krimis.append(\"Der Pate\")\n",
    "\n",
    "print(krimis)"
   ]
  },
  {
   "cell_type": "markdown",
   "id": "31fa9f44fac0a02c",
   "metadata": {},
   "source": [
    "Um ein Element an eine bestimmte Stelle in die Liste einzufügen, benutzt man die Funktion _insert()_. Wie bei der _append()_-Funktion schreibt man zuerst den Listennamen, danach einen Punkt, dann die Funktion _insert()_. In der Klammer der Funktion gibt man zuerst die Position an, an die das neue Element eingefügt werden soll."
   ]
  },
  {
   "cell_type": "code",
   "execution_count": null,
   "id": "cc284d33edf48d62",
   "metadata": {},
   "outputs": [],
   "source": [
    "krimis.insert(1, \"Alibi\")\n",
    "\n",
    "print(krimis)"
   ]
  }
 ],
 "metadata": {
  "hide_input": false,
  "kernelspec": {
   "display_name": "Python (AI4all_I)",
   "language": "python",
   "name": "python-ai4all_i"
  },
  "language_info": {
   "codemirror_mode": {
    "name": "ipython",
    "version": 3
   },
   "file_extension": ".py",
   "mimetype": "text/x-python",
   "name": "python",
   "nbconvert_exporter": "python",
   "pygments_lexer": "ipython3",
   "version": "3.10.9"
  },
  "toc": {
   "base_numbering": 1,
   "nav_menu": {},
   "number_sections": true,
   "sideBar": true,
   "skip_h1_title": false,
   "title_cell": "Table of Contents",
   "title_sidebar": "Contents",
   "toc_cell": false,
   "toc_position": {},
   "toc_section_display": true,
   "toc_window_display": false
  }
 },
 "nbformat": 4,
 "nbformat_minor": 5
}
