{
 "cells": [
  {
   "cell_type": "markdown",
   "id": "18e47fff84f8d624",
   "metadata": {},
   "source": [
    "# Bearbeiten von Listen in Python"
   ]
  },
  {
   "cell_type": "markdown",
   "id": "5409f7a01455ab55",
   "metadata": {},
   "source": [
    "## Zugriff auf Listenelemente\n",
    "\n",
    "Im Folgenden arbeiten wir mit zwei Listen _kinderbuecher_ und _krimis_, die jeweils drei Elemente enthalten.\n",
    "\n"
   ]
  },
  {
   "cell_type": "code",
   "execution_count": null,
   "id": "b953bbd132d96531",
   "metadata": {},
   "outputs": [],
   "source": [
    "kinderbuecher = [\"Peter Pan\", \"Pippi Langstrumpf\", \"Alice im Wunderland\"]\n",
    "\n",
    "krimis = [\"Mord im Orient-Express\", \"Alibi\", \"Der Pate\"]"
   ]
  },
  {
   "cell_type": "markdown",
   "id": "750cfc16564f9f95",
   "metadata": {},
   "source": [
    "Um auf die einzelne Listenelemente zugreifen zu können, muss man hinter dem Listennamen in den eckigen Klammern den Index des Elementes angeben."
   ]
  },
  {
   "cell_type": "code",
   "execution_count": null,
   "id": "f1148f7987ee82c6",
   "metadata": {},
   "outputs": [],
   "source": [
    "print(kinderbuecher[1])"
   ]
  },
  {
   "cell_type": "markdown",
   "id": "924a325c2a5f052",
   "metadata": {},
   "source": [
    "Genauso können auch negative Indexe angegeben werden. Das ist zum Beispiel dann praktisch, wenn man nicht weiß, wie lang die Liste ist und man auf das letzte Element der Liste zugreifen möchte. Denn das letzte Element einer Liste hat den negativen Index -1."
   ]
  },
  {
   "cell_type": "code",
   "execution_count": null,
   "id": "86777e5a88824de9",
   "metadata": {},
   "outputs": [],
   "source": [
    "print(kinderbuecher[-1])"
   ]
  },
  {
   "cell_type": "markdown",
   "id": "a13421c8e66d8ed0",
   "metadata": {},
   "source": [
    "Wenn man auf eine Position außerhalb der Liste zugreifen möchte, bekommt man eine Fehlermeldung, die besagt, dass der Index außerhalb des Bereichs liegt."
   ]
  },
  {
   "cell_type": "code",
   "execution_count": null,
   "id": "c13f22162856f90",
   "metadata": {},
   "outputs": [],
   "source": [
    "# print(kinderbuecher[3])"
   ]
  },
  {
   "cell_type": "markdown",
   "id": "9175926bf64deb52",
   "metadata": {},
   "source": [
    "Damit solche Fehler nicht passieren, kann man mit der Funktion _len()_, die für _length_ steht, die Anzahl der Elemente einer Liste ausgeben lassen."
   ]
  },
  {
   "cell_type": "code",
   "execution_count": null,
   "id": "dc08baca12cf162b",
   "metadata": {},
   "outputs": [],
   "source": [
    "print(len(kinderbuecher))"
   ]
  },
  {
   "cell_type": "markdown",
   "id": "a53e7298297150b3",
   "metadata": {},
   "source": [
    "Wenn man nur eine Teilmenge aufeinanderfolgender Elemente einer Liste ausgeben möchte, zum Beispiel nur die ersten beiden Elemente, kann man in der eckigen Klammer den Start- und den End-Index getrennt durch einen Doppelpunkt angeben. Dabei wird das Element an der Endposition nicht mit ausgegeben. Diese Methode nennt man _Slicing_. Man schneidet so gesehen eine Scheibe aus der Liste aus."
   ]
  },
  {
   "cell_type": "code",
   "execution_count": null,
   "id": "5afa13eac60a781b",
   "metadata": {},
   "outputs": [],
   "source": [
    "print(kinderbuecher[0:2])"
   ]
  },
  {
   "cell_type": "markdown",
   "id": "a5e6ad048a710d9b",
   "metadata": {},
   "source": [
    "Wenn man die Elemente ab einer bestimmten Position bis zum Ende der Liste ausgeben möchte, gibt man nur die Anfangsposition und den Doppelpunkt in den eckigen Klammern an.\n"
   ]
  },
  {
   "cell_type": "code",
   "execution_count": null,
   "id": "34859fc3ef856124",
   "metadata": {},
   "outputs": [],
   "source": [
    "print(kinderbuecher[1:])"
   ]
  },
  {
   "cell_type": "markdown",
   "id": "3b72f54a4466cfa",
   "metadata": {},
   "source": [
    "Möchte man alle Elemente einer Liste von Anfang bis zu einer bestimmten Position ausgeben, muss nur die Endposition nach dem Doppelpunkt in den eckigen Klammern angeben werden."
   ]
  },
  {
   "cell_type": "code",
   "execution_count": null,
   "id": "4fbb0c77c6ba05ef",
   "metadata": {},
   "outputs": [],
   "source": [
    "print(kinderbuecher[:2])"
   ]
  },
  {
   "cell_type": "markdown",
   "id": "f45660e705e0324a",
   "metadata": {},
   "source": [
    "Im Folgenden arbeiten wir mit der verschachtelten Liste _buchliste_, die aus zwei Unterlisten besteht."
   ]
  },
  {
   "cell_type": "code",
   "execution_count": null,
   "id": "dee6e4b26713f430",
   "metadata": {},
   "outputs": [],
   "source": [
    "buchliste = [[\"Pippi Langstrumpf\", \"Astrid Lindgren\", 1945], [\"Alice im Wunderland\", \"Lewis Carroll\", 1865]]\n",
    "\n",
    "print(buchliste)"
   ]
  },
  {
   "cell_type": "markdown",
   "id": "5af22df6713ea521",
   "metadata": {},
   "source": [
    "Um auf die einzelnen Elemente einer Unterliste in einer verschachtelten Liste zugreifen zu können, muss man zwei Indexe angeben. Der erste Index gibt die Position der Unterliste an. Der zweite Index gibt das Element innerhalb der Unterliste an."
   ]
  },
  {
   "cell_type": "code",
   "execution_count": null,
   "id": "54dab041df506e90",
   "metadata": {},
   "outputs": [],
   "source": [
    "print(buchliste[0][2])"
   ]
  },
  {
   "cell_type": "markdown",
   "id": "2533c96099eac5cb",
   "metadata": {},
   "source": [
    "Wenn wir nur einen Index für eine verschachtelte Liste angeben, dann wird die gesamte Unterliste, die an dieser Position steht, ausgegeben."
   ]
  },
  {
   "cell_type": "code",
   "execution_count": null,
   "id": "63fde3108f2cf9b5",
   "metadata": {},
   "outputs": [],
   "source": [
    "print(buchliste[0])"
   ]
  },
  {
   "cell_type": "markdown",
   "id": "12426ce8037c0675",
   "metadata": {},
   "source": [
    "## Elemente innerhalb einer Liste ersetzen und löschen\n",
    "\n",
    "Um ein Element der Liste durch ein anderes Element zu ersetzen, muss man dieses Element mit Hilfe seines Indexes ansprechen und ihm einen neuen Wert zuweisen."
   ]
  },
  {
   "cell_type": "code",
   "execution_count": null,
   "id": "9e238c31ccee3b08",
   "metadata": {},
   "outputs": [],
   "source": [
    "print(krimis)"
   ]
  },
  {
   "cell_type": "code",
   "execution_count": null,
   "id": "b2c129117f05a0a6",
   "metadata": {},
   "outputs": [],
   "source": [
    "krimis[0] = \"Der dünne Mann\"\n",
    "\n",
    "print(krimis)"
   ]
  },
  {
   "cell_type": "markdown",
   "id": "42e04a51c2278c1e",
   "metadata": {},
   "source": [
    "Das Löschen der Listenelemente erfolgt mit dem _del_-Befehl, was für _delete_ steht. Wenn man also ein oder mehrere Elemente aus einer Liste entfernen möchte, muss man zuerst den _del_-Befehl eingeben und danach das Element bzw. die Elemente, die gelöscht werden sollen."
   ]
  },
  {
   "cell_type": "code",
   "execution_count": null,
   "id": "7b4a22c59e953648",
   "metadata": {},
   "outputs": [],
   "source": [
    "del krimis[0:2]\n",
    "\n",
    "print(krimis)"
   ]
  },
  {
   "cell_type": "markdown",
   "id": "7e540c45e8ddc6b9",
   "metadata": {},
   "source": [
    "Man kann auch alle Elemente einer Liste löschen, indem man den Listennamen gefolgt von einem Punkt und der Methode _clear()_ eingibt. Die Liste bleibt noch definiert, aber sie ist dann leer."
   ]
  },
  {
   "cell_type": "code",
   "execution_count": null,
   "id": "92050bc88f297f29",
   "metadata": {},
   "outputs": [],
   "source": [
    "krimis.clear()\n",
    "\n",
    "print(krimis)"
   ]
  }
 ],
 "metadata": {
  "hide_input": false,
  "kernelspec": {
   "display_name": "Python (AI4all_I)",
   "language": "python",
   "name": "python-ai4all_i"
  },
  "language_info": {
   "codemirror_mode": {
    "name": "ipython",
    "version": 3
   },
   "file_extension": ".py",
   "mimetype": "text/x-python",
   "name": "python",
   "nbconvert_exporter": "python",
   "pygments_lexer": "ipython3",
   "version": "3.10.9"
  },
  "toc": {
   "base_numbering": 1,
   "nav_menu": {},
   "number_sections": true,
   "sideBar": true,
   "skip_h1_title": false,
   "title_cell": "Table of Contents",
   "title_sidebar": "Contents",
   "toc_cell": false,
   "toc_position": {},
   "toc_section_display": true,
   "toc_window_display": false
  }
 },
 "nbformat": 4,
 "nbformat_minor": 5
}
