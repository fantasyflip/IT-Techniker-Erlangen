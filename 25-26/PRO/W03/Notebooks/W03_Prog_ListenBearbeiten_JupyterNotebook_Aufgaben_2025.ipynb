{
 "cells": [
  {
   "cell_type": "markdown",
   "id": "187d5f0eef29d984",
   "metadata": {},
   "source": [
    "### Aufgabe (_Zugriff auf die Listenelemente_)\n",
    "Die Liste _fruits_ enthält fünf Elemente: _apple_, _pear_, _banana_, _grape_ und _peach_."
   ]
  },
  {
   "cell_type": "code",
   "execution_count": 1,
   "id": "ea1d5acb816fa361",
   "metadata": {
    "ExecuteTime": {
     "end_time": "2025-03-12T21:32:54.660803Z",
     "start_time": "2025-03-12T21:32:54.658252Z"
    }
   },
   "outputs": [],
   "source": [
    "fruits = [\"apple\", \"pear\", \"banana\", \"grape\", \"peach\"]"
   ]
  },
  {
   "cell_type": "markdown",
   "id": "68fc987c426509dd",
   "metadata": {},
   "source": [
    "a) Auf welches Element wird jeweils durch die Anweisung\n",
    "   1. `fruits[2]`\n",
    "   2. `fruits[-1]`\n",
    "\n",
    "zugegriffen?"
   ]
  },
  {
   "cell_type": "code",
   "execution_count": null,
   "id": "c81ca20054f20f6d",
   "metadata": {},
   "outputs": [],
   "source": [
    "# Hier kannst du deine Lösung ausprobieren\n",
    "\n"
   ]
  },
  {
   "cell_type": "markdown",
   "id": "b29c5e6710b2b003",
   "metadata": {},
   "source": [
    "b) Schreibe eine Anweisung, um die Elemente _grape_ und _peach_ in der vorgegebenen Reihenfolge auszugeben."
   ]
  },
  {
   "cell_type": "code",
   "execution_count": null,
   "id": "bc7834c63ca2e39",
   "metadata": {},
   "outputs": [],
   "source": [
    "# Hier kommt deine Lösung\n",
    "\n"
   ]
  },
  {
   "cell_type": "markdown",
   "id": "541aca778851fc9b",
   "metadata": {},
   "source": [
    "### Aufgabe (_Listen von Listen_)\n",
    "Die unten definierte Liste _composers_ beinhaltet die Namen, die Geburtsjahre und die Geburtsstädte einiger Komponisten.\n",
    "\n",
    "Schreibe eine Anweisung, mit der du das Geburtsjahr von Antonio Lucio Vivaldi ausgeben kannst."
   ]
  },
  {
   "cell_type": "code",
   "execution_count": null,
   "id": "c671b5955ea38844",
   "metadata": {},
   "outputs": [],
   "source": [
    "composers = [[\"Johannes Brahms\", 1833, \"Hamburg\"], [\"Wolfgang Amadeus Mozart\", 1756, \"Salzburg\"], [\"Antonio Lucio Vivaldi\", 1678, \"Venedig\"]]\n",
    "\n",
    "# Hier kommt deine Lösung\n",
    "\n"
   ]
  },
  {
   "cell_type": "markdown",
   "id": "80a75cc50aa751bd",
   "metadata": {},
   "source": [
    "### Aufgabe (_Elemente einer Liste ersetzen_)\n",
    "In die Liste _primes_ hat sich ein Fehler eingeschlichen. Schreibe eine Anweisung, mit der die Zahl _9_ durch die Primzahl _7_ ersetzt wird."
   ]
  },
  {
   "cell_type": "code",
   "execution_count": null,
   "id": "d17bd7a5bc2bc9b9",
   "metadata": {},
   "outputs": [],
   "source": [
    "primes = [2, 3, 5, 9, 11]\n",
    "\n",
    "# Hier kommt deine Lösung\n",
    "\n",
    "\n",
    "print(primes)"
   ]
  }
 ],
 "metadata": {
  "hide_input": false,
  "kernelspec": {
   "display_name": "Python (AI4all_I)",
   "language": "python",
   "name": "python-ai4all_i"
  },
  "language_info": {
   "codemirror_mode": {
    "name": "ipython",
    "version": 3
   },
   "file_extension": ".py",
   "mimetype": "text/x-python",
   "name": "python",
   "nbconvert_exporter": "python",
   "pygments_lexer": "ipython3",
   "version": "3.10.9"
  },
  "toc": {
   "base_numbering": 1,
   "nav_menu": {},
   "number_sections": true,
   "sideBar": true,
   "skip_h1_title": false,
   "title_cell": "Table of Contents",
   "title_sidebar": "Contents",
   "toc_cell": false,
   "toc_position": {},
   "toc_section_display": true,
   "toc_window_display": false
  }
 },
 "nbformat": 4,
 "nbformat_minor": 5
}
